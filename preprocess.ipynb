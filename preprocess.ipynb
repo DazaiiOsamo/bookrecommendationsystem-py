{
 "cells": [
  {
   "cell_type": "code",
   "execution_count": 1,
   "metadata": {},
   "outputs": [],
   "source": [
    "import pandas as pd \n",
    "import numpy as np"
   ]
  },
  {
   "cell_type": "code",
   "execution_count": 24,
   "metadata": {},
   "outputs": [],
   "source": [
    "df = pd.read_csv(\"goodreads_data.csv\")"
   ]
  },
  {
   "cell_type": "code",
   "execution_count": 25,
   "metadata": {},
   "outputs": [
    {
     "name": "stdout",
     "output_type": "stream",
     "text": [
      "<class 'pandas.core.frame.DataFrame'>\n",
      "RangeIndex: 10000 entries, 0 to 9999\n",
      "Data columns (total 8 columns):\n",
      " #   Column       Non-Null Count  Dtype  \n",
      "---  ------       --------------  -----  \n",
      " 0   Unnamed: 0   10000 non-null  int64  \n",
      " 1   Book         10000 non-null  object \n",
      " 2   Author       10000 non-null  object \n",
      " 3   Description  9923 non-null   object \n",
      " 4   Genres       10000 non-null  object \n",
      " 5   Avg_Rating   10000 non-null  float64\n",
      " 6   Num_Ratings  10000 non-null  object \n",
      " 7   URL          10000 non-null  object \n",
      "dtypes: float64(1), int64(1), object(6)\n",
      "memory usage: 625.1+ KB\n"
     ]
    }
   ],
   "source": [
    "df.info()"
   ]
  },
  {
   "cell_type": "code",
   "execution_count": 26,
   "metadata": {},
   "outputs": [
    {
     "ename": "AttributeError",
     "evalue": "'NoneType' object has no attribute 'info'",
     "output_type": "error",
     "traceback": [
      "\u001b[1;31m---------------------------------------------------------------------------\u001b[0m",
      "\u001b[1;31mAttributeError\u001b[0m                            Traceback (most recent call last)",
      "Cell \u001b[1;32mIn[26], line 1\u001b[0m\n\u001b[1;32m----> 1\u001b[0m \u001b[43mdf\u001b[49m\u001b[38;5;241;43m.\u001b[39;49m\u001b[43mdrop_duplicates\u001b[49m\u001b[43m(\u001b[49m\u001b[43minplace\u001b[49m\u001b[38;5;241;43m=\u001b[39;49m\u001b[38;5;28;43;01mTrue\u001b[39;49;00m\u001b[43m)\u001b[49m\u001b[38;5;241;43m.\u001b[39;49m\u001b[43minfo\u001b[49m()\n",
      "\u001b[1;31mAttributeError\u001b[0m: 'NoneType' object has no attribute 'info'"
     ]
    }
   ],
   "source": [
    "df.drop_duplicates(inplace=True).info()"
   ]
  },
  {
   "cell_type": "code",
   "execution_count": 27,
   "metadata": {},
   "outputs": [],
   "source": [
    "df= df.dropna()"
   ]
  },
  {
   "cell_type": "code",
   "execution_count": 22,
   "metadata": {},
   "outputs": [],
   "source": [
    "df=df.drop_duplicates(inplace=True)"
   ]
  },
  {
   "cell_type": "code",
   "execution_count": 28,
   "metadata": {},
   "outputs": [
    {
     "name": "stdout",
     "output_type": "stream",
     "text": [
      "<class 'pandas.core.frame.DataFrame'>\n",
      "Index: 9923 entries, 0 to 9999\n",
      "Data columns (total 8 columns):\n",
      " #   Column       Non-Null Count  Dtype  \n",
      "---  ------       --------------  -----  \n",
      " 0   Unnamed: 0   9923 non-null   int64  \n",
      " 1   Book         9923 non-null   object \n",
      " 2   Author       9923 non-null   object \n",
      " 3   Description  9923 non-null   object \n",
      " 4   Genres       9923 non-null   object \n",
      " 5   Avg_Rating   9923 non-null   float64\n",
      " 6   Num_Ratings  9923 non-null   object \n",
      " 7   URL          9923 non-null   object \n",
      "dtypes: float64(1), int64(1), object(6)\n",
      "memory usage: 697.7+ KB\n"
     ]
    }
   ],
   "source": [
    "df.info()"
   ]
  },
  {
   "cell_type": "code",
   "execution_count": 34,
   "metadata": {},
   "outputs": [
    {
     "data": {
      "text/html": [
       "<div>\n",
       "<style scoped>\n",
       "    .dataframe tbody tr th:only-of-type {\n",
       "        vertical-align: middle;\n",
       "    }\n",
       "\n",
       "    .dataframe tbody tr th {\n",
       "        vertical-align: top;\n",
       "    }\n",
       "\n",
       "    .dataframe thead th {\n",
       "        text-align: right;\n",
       "    }\n",
       "</style>\n",
       "<table border=\"1\" class=\"dataframe\">\n",
       "  <thead>\n",
       "    <tr style=\"text-align: right;\">\n",
       "      <th></th>\n",
       "      <th>Unnamed: 0</th>\n",
       "      <th>Book</th>\n",
       "      <th>Author</th>\n",
       "      <th>Description</th>\n",
       "      <th>Genres</th>\n",
       "      <th>Avg_Rating</th>\n",
       "      <th>Num_Ratings</th>\n",
       "      <th>URL</th>\n",
       "    </tr>\n",
       "  </thead>\n",
       "  <tbody>\n",
       "    <tr>\n",
       "      <th>0</th>\n",
       "      <td>0</td>\n",
       "      <td>To Kill a Mockingbird</td>\n",
       "      <td>Harper Lee</td>\n",
       "      <td>The unforgettable novel of a childhood in a sl...</td>\n",
       "      <td>['Classics', 'Fiction', 'Historical Fiction', ...</td>\n",
       "      <td>4.27</td>\n",
       "      <td>5,691,311</td>\n",
       "      <td>https://www.goodreads.com/book/show/2657.To_Ki...</td>\n",
       "    </tr>\n",
       "    <tr>\n",
       "      <th>1</th>\n",
       "      <td>1</td>\n",
       "      <td>Harry Potter and the Philosopher’s Stone (Harr...</td>\n",
       "      <td>J.K. Rowling</td>\n",
       "      <td>Harry Potter thinks he is an ordinary boy - un...</td>\n",
       "      <td>['Fantasy', 'Fiction', 'Young Adult', 'Magic',...</td>\n",
       "      <td>4.47</td>\n",
       "      <td>9,278,135</td>\n",
       "      <td>https://www.goodreads.com/book/show/72193.Harr...</td>\n",
       "    </tr>\n",
       "    <tr>\n",
       "      <th>2</th>\n",
       "      <td>2</td>\n",
       "      <td>Pride and Prejudice</td>\n",
       "      <td>Jane Austen</td>\n",
       "      <td>Since its immediate success in 1813, Pride and...</td>\n",
       "      <td>['Classics', 'Fiction', 'Romance', 'Historical...</td>\n",
       "      <td>4.28</td>\n",
       "      <td>3,944,155</td>\n",
       "      <td>https://www.goodreads.com/book/show/1885.Pride...</td>\n",
       "    </tr>\n",
       "    <tr>\n",
       "      <th>3</th>\n",
       "      <td>3</td>\n",
       "      <td>The Diary of a Young Girl</td>\n",
       "      <td>Anne Frank</td>\n",
       "      <td>Discovered in the attic in which she spent the...</td>\n",
       "      <td>['Classics', 'Nonfiction', 'History', 'Biograp...</td>\n",
       "      <td>4.18</td>\n",
       "      <td>3,488,438</td>\n",
       "      <td>https://www.goodreads.com/book/show/48855.The_...</td>\n",
       "    </tr>\n",
       "    <tr>\n",
       "      <th>4</th>\n",
       "      <td>4</td>\n",
       "      <td>Animal Farm</td>\n",
       "      <td>George Orwell</td>\n",
       "      <td>Librarian's note: There is an Alternate Cover ...</td>\n",
       "      <td>['Classics', 'Fiction', 'Dystopia', 'Fantasy',...</td>\n",
       "      <td>3.98</td>\n",
       "      <td>3,575,172</td>\n",
       "      <td>https://www.goodreads.com/book/show/170448.Ani...</td>\n",
       "    </tr>\n",
       "  </tbody>\n",
       "</table>\n",
       "</div>"
      ],
      "text/plain": [
       "   Unnamed: 0                                               Book  \\\n",
       "0           0                              To Kill a Mockingbird   \n",
       "1           1  Harry Potter and the Philosopher’s Stone (Harr...   \n",
       "2           2                                Pride and Prejudice   \n",
       "3           3                          The Diary of a Young Girl   \n",
       "4           4                                        Animal Farm   \n",
       "\n",
       "          Author                                        Description  \\\n",
       "0     Harper Lee  The unforgettable novel of a childhood in a sl...   \n",
       "1   J.K. Rowling  Harry Potter thinks he is an ordinary boy - un...   \n",
       "2    Jane Austen  Since its immediate success in 1813, Pride and...   \n",
       "3     Anne Frank  Discovered in the attic in which she spent the...   \n",
       "4  George Orwell  Librarian's note: There is an Alternate Cover ...   \n",
       "\n",
       "                                              Genres  Avg_Rating Num_Ratings  \\\n",
       "0  ['Classics', 'Fiction', 'Historical Fiction', ...        4.27   5,691,311   \n",
       "1  ['Fantasy', 'Fiction', 'Young Adult', 'Magic',...        4.47   9,278,135   \n",
       "2  ['Classics', 'Fiction', 'Romance', 'Historical...        4.28   3,944,155   \n",
       "3  ['Classics', 'Nonfiction', 'History', 'Biograp...        4.18   3,488,438   \n",
       "4  ['Classics', 'Fiction', 'Dystopia', 'Fantasy',...        3.98   3,575,172   \n",
       "\n",
       "                                                 URL  \n",
       "0  https://www.goodreads.com/book/show/2657.To_Ki...  \n",
       "1  https://www.goodreads.com/book/show/72193.Harr...  \n",
       "2  https://www.goodreads.com/book/show/1885.Pride...  \n",
       "3  https://www.goodreads.com/book/show/48855.The_...  \n",
       "4  https://www.goodreads.com/book/show/170448.Ani...  "
      ]
     },
     "execution_count": 34,
     "metadata": {},
     "output_type": "execute_result"
    }
   ],
   "source": [
    "df.head()"
   ]
  },
  {
   "cell_type": "code",
   "execution_count": null,
   "metadata": {},
   "outputs": [],
   "source": []
  },
  {
   "cell_type": "code",
   "execution_count": 33,
   "metadata": {},
   "outputs": [
    {
     "ename": "AttributeError",
     "evalue": "'NoneType' object has no attribute 'info'",
     "output_type": "error",
     "traceback": [
      "\u001b[1;31m---------------------------------------------------------------------------\u001b[0m",
      "\u001b[1;31mAttributeError\u001b[0m                            Traceback (most recent call last)",
      "Cell \u001b[1;32mIn[33], line 1\u001b[0m\n\u001b[1;32m----> 1\u001b[0m \u001b[43mdf\u001b[49m\u001b[38;5;241;43m.\u001b[39;49m\u001b[43mdrop_duplicates\u001b[49m\u001b[43m(\u001b[49m\u001b[43m \u001b[49m\u001b[43msubset\u001b[49m\u001b[38;5;241;43m=\u001b[39;49m\u001b[43m[\u001b[49m\u001b[38;5;124;43m'\u001b[39;49m\u001b[38;5;124;43mBook\u001b[39;49m\u001b[38;5;124;43m'\u001b[39;49m\u001b[43m]\u001b[49m\u001b[43m \u001b[49m\u001b[43m,\u001b[49m\u001b[43minplace\u001b[49m\u001b[38;5;241;43m=\u001b[39;49m\u001b[38;5;28;43;01mTrue\u001b[39;49;00m\u001b[43m)\u001b[49m\u001b[38;5;241;43m.\u001b[39;49m\u001b[43minfo\u001b[49m()\n\u001b[0;32m      2\u001b[0m df\u001b[38;5;241m.\u001b[39minfo()\n",
      "\u001b[1;31mAttributeError\u001b[0m: 'NoneType' object has no attribute 'info'"
     ]
    }
   ],
   "source": [
    "df.drop_duplicates( subset=['Book'] ,inplace=True).info()\n",
    "df.info()"
   ]
  },
  {
   "cell_type": "code",
   "execution_count": 36,
   "metadata": {},
   "outputs": [
    {
     "name": "stdout",
     "output_type": "stream",
     "text": [
      "<class 'pandas.core.frame.DataFrame'>\n",
      "Index: 9795 entries, 0 to 9999\n",
      "Data columns (total 8 columns):\n",
      " #   Column       Non-Null Count  Dtype  \n",
      "---  ------       --------------  -----  \n",
      " 0   Unnamed: 0   9795 non-null   int64  \n",
      " 1   Book         9795 non-null   object \n",
      " 2   Author       9795 non-null   object \n",
      " 3   Description  9795 non-null   object \n",
      " 4   Genres       9795 non-null   object \n",
      " 5   Avg_Rating   9795 non-null   float64\n",
      " 6   Num_Ratings  9795 non-null   object \n",
      " 7   URL          9795 non-null   object \n",
      "dtypes: float64(1), int64(1), object(6)\n",
      "memory usage: 688.7+ KB\n"
     ]
    }
   ],
   "source": [
    "df.info()"
   ]
  },
  {
   "cell_type": "code",
   "execution_count": 38,
   "metadata": {},
   "outputs": [],
   "source": [
    "df.to_csv('cleaned_dataa.csv')"
   ]
  }
 ],
 "metadata": {
  "kernelspec": {
   "display_name": "venv",
   "language": "python",
   "name": "python3"
  },
  "language_info": {
   "codemirror_mode": {
    "name": "ipython",
    "version": 3
   },
   "file_extension": ".py",
   "mimetype": "text/x-python",
   "name": "python",
   "nbconvert_exporter": "python",
   "pygments_lexer": "ipython3",
   "version": "3.11.0"
  }
 },
 "nbformat": 4,
 "nbformat_minor": 2
}
